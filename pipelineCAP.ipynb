{
 "cells": [
  {
   "cell_type": "code",
   "execution_count": 1,
   "metadata": {},
   "outputs": [],
   "source": [
    "import torch\n",
    "from transformers import *\n",
    "from transformers import pipeline"
   ]
  },
  {
   "cell_type": "code",
   "execution_count": 2,
   "metadata": {},
   "outputs": [],
   "source": [
    "nlp = pipeline('question-answering')"
   ]
  },
  {
   "cell_type": "code",
   "execution_count": 31,
   "metadata": {},
   "outputs": [
    {
     "data": {
      "text/plain": [
       "\u001b[0;31mSignature:\u001b[0m      \u001b[0mnlp\u001b[0m\u001b[0;34m(\u001b[0m\u001b[0;34m*\u001b[0m\u001b[0mtexts\u001b[0m\u001b[0;34m,\u001b[0m \u001b[0;34m**\u001b[0m\u001b[0mkwargs\u001b[0m\u001b[0;34m)\u001b[0m\u001b[0;34m\u001b[0m\u001b[0;34m\u001b[0m\u001b[0m\n",
       "\u001b[0;31mType:\u001b[0m           QuestionAnsweringPipeline\n",
       "\u001b[0;31mString form:\u001b[0m    <transformers.pipelines.QuestionAnsweringPipeline object at 0x7f1235d6f690>\n",
       "\u001b[0;31mFile:\u001b[0m           ~/anaconda3/lib/python3.7/site-packages/transformers/pipelines.py\n",
       "\u001b[0;31mDocstring:\u001b[0m      Question Answering pipeline using ModelForQuestionAnswering head.\n",
       "\u001b[0;31mCall docstring:\u001b[0m\n",
       "Args:\n",
       "    We support multiple use-cases, the following are exclusive:\n",
       "    X: sequence of SquadExample\n",
       "    data: sequence of SquadExample\n",
       "    question: (str, List[str]), batch of question(s) to map along with context\n",
       "    context: (str, List[str]), batch of context(s) associated with the provided question keyword argument\n",
       "Returns:\n",
       "    dict: {'answer': str, 'score\": float, 'start\": int, \"end\": int}\n",
       "    answer: the textual answer in the intial context\n",
       "    score: the score the current answer scored for the model\n",
       "    start: the character index in the original string corresponding to the beginning of the answer' span\n",
       "    end: the character index in the original string corresponding to the ending of the answer' span\n"
      ]
     },
     "metadata": {},
     "output_type": "display_data"
    }
   ],
   "source": [
    "?nlp"
   ]
  },
  {
   "cell_type": "code",
   "execution_count": 12,
   "metadata": {},
   "outputs": [],
   "source": [
    "domains = ['Key diagnostic criteria and Additional symptoms','Risk Factors',]"
   ]
  },
  {
   "cell_type": "code",
   "execution_count": 5,
   "metadata": {},
   "outputs": [],
   "source": [
    "symptoms = \"I've been feeling very unwell for several days. I'm worried about it.\\\n",
    "My main symptom is a cough. I have been coughing for 3 days. \\\n",
    "I keep bringing up yellow-green sputum. It is increasing. There is no blood in it. \\\n",
    "Last night I became short of breath and decided to come into the emergency department. \\\n",
    "I have been feeling feverish and have had chills. I have also had uncontrollable shaking. \\\n",
    "It hurts on the right side when I breathe in. \\\n",
    "My whole body aches, especially my joints. \\\n",
    "I've been feeling confused. \\\n",
    "I don't have swollen legs. I sleep on one pillow. I don't wake up in the night. \\\n",
    "My sputum is not pink and frothy. \\\n",
    "I don't have a wheeze\" "
   ]
  },
  {
   "cell_type": "code",
   "execution_count": 6,
   "metadata": {},
   "outputs": [],
   "source": [
    "risks = \"I'm 70 years old. I live in a nursing home. I do not have COPD. I've never smoked. \\\n",
    "I don't drink alcohol. I brush my teeth regularly. I visited my grandchildren last week.\""
   ]
  },
  {
   "cell_type": "code",
   "execution_count": 13,
   "metadata": {},
   "outputs": [],
   "source": [
    "contexts = [symptoms, risks]"
   ]
  },
  {
   "cell_type": "code",
   "execution_count": 15,
   "metadata": {},
   "outputs": [
    {
     "data": {
      "text/plain": [
       "<zip at 0x7f12350ec370>"
      ]
     },
     "execution_count": 15,
     "metadata": {},
     "output_type": "execute_result"
    }
   ],
   "source": [
    "zip(domains,contexts)"
   ]
  },
  {
   "cell_type": "code",
   "execution_count": 19,
   "metadata": {},
   "outputs": [],
   "source": [
    "domainContextDict = {domain:context for (domain,context) in zip(domains,contexts)}"
   ]
  },
  {
   "cell_type": "code",
   "execution_count": 35,
   "metadata": {},
   "outputs": [],
   "source": [
    "symptomQuestions = ['Why have you come to the ED','What is your main symptom?',\\\n",
    "                    'Do you have a cough','Is there blood in your sputum?',\\\n",
    "                   'How many days have you had a cough?', 'What color is your sputum',\\\n",
    "                   'Have you had a fever?','Have you been shaking?',\\\n",
    "                   'Does it hurt when you breathe?','Are you feeling short of breath?', \\\n",
    "                   'Do you have aches and pains?','Have you been confused?',\\\n",
    "                   'Are your legs swollen?','How many pillows do you sleep on?',\\\n",
    "                   'Do you wake up in the night?','Do you have a wheeze?',\\\n",
    "                   'Is the sputum pink and frothy?']\n",
    "\n",
    "riskQuestions = ['How old are you?','Where do you live?','Do you have COPD?',\\\n",
    "                'Have you ever smoked?','Are you a smoker?','Do you drink alcohol?',\\\n",
    "                'Do you brush your teeth regularly?',\"Have you been in contact with children?\"]"
   ]
  },
  {
   "cell_type": "code",
   "execution_count": 36,
   "metadata": {},
   "outputs": [],
   "source": [
    "questions = [symptomQuestions,riskQuestions]"
   ]
  },
  {
   "cell_type": "code",
   "execution_count": 37,
   "metadata": {},
   "outputs": [],
   "source": [
    "domainQuestionsDict = {domain:question for (domain,question) in zip(domains,questions)}"
   ]
  },
  {
   "cell_type": "code",
   "execution_count": 38,
   "metadata": {},
   "outputs": [
    {
     "name": "stdout",
     "output_type": "stream",
     "text": [
      "Question  1  is:  Why have you come to the ED\n",
      "The answer given is:  I have been feeling feverish and have had chills.\n",
      "Question  2  is:  What is your main symptom?\n",
      "The answer given is:  a cough.\n",
      "Question  3  is:  Do you have a cough\n",
      "The answer given is:  I have been coughing for 3 days.\n",
      "Question  4  is:  Is there blood in your sputum?\n",
      "The answer given is:  There is no blood in it.\n",
      "Question  5  is:  How many days have you had a cough?\n",
      "The answer given is:  3\n",
      "Question  6  is:  What color is your sputum\n",
      "The answer given is:  yellow-green\n",
      "Question  7  is:  Have you had a fever?\n",
      "The answer given is:  I have been feeling feverish and have had chills.\n",
      "Question  8  is:  Have you been shaking?\n",
      "The answer given is:  uncontrollable shaking.\n",
      "Question  9  is:  Does it hurt when you breathe?\n",
      "The answer given is:  It hurts on the right side\n",
      "Question  10  is:  Are you feeling short of breath?\n",
      "The answer given is:  Last night I became short of breath\n",
      "Question  11  is:  Do you have aches and pains?\n",
      "The answer given is:  My whole body aches,\n",
      "Question  12  is:  Have you been confused?\n",
      "The answer given is:  I've been feeling confused.\n",
      "Question  13  is:  Are your legs swollen?\n",
      "The answer given is:  I don't have swollen legs.\n",
      "Question  14  is:  How many pillows do you sleep on?\n",
      "The answer given is:  one\n",
      "Question  15  is:  Do you wake up in the night?\n",
      "The answer given is:  I don't wake up in the night.\n",
      "Question  16  is:  Do you have a wheeze?\n",
      "The answer given is:  I don't\n",
      "Question  17  is:  Is the sputum pink and frothy?\n",
      "The answer given is:  My sputum is not pink and frothy.\n",
      "Question  1  is:  How old are you?\n",
      "The answer given is:  70\n",
      "Question  2  is:  Where do you live?\n",
      "The answer given is:  a nursing home.\n",
      "Question  3  is:  Do you have COPD?\n",
      "The answer given is:  I do not have COPD.\n",
      "Question  4  is:  Have you ever smoked?\n",
      "The answer given is:  I've never smoked.\n",
      "Question  5  is:  Are you a smoker?\n",
      "The answer given is:  I've never smoked.\n",
      "Question  6  is:  Do you drink alcohol?\n",
      "The answer given is:  I don't drink alcohol.\n",
      "Question  7  is:  Do you brush your teeth regularly?\n",
      "The answer given is:  I brush my teeth regularly.\n",
      "Question  8  is:  Have you been in contact with children?\n",
      "The answer given is:  I visited my grandchildren last week.\n"
     ]
    }
   ],
   "source": [
    "%%capture --no-stdout \n",
    "examplesLeung = []\n",
    "for domain in domains:\n",
    "    i = 0\n",
    "    for question in domainQuestionsDict[domain]:\n",
    "        i += 1\n",
    "        context = domainContextDict[domain]\n",
    "        answer = nlp({'question': question,'context': context})['answer'];\n",
    "        \n",
    "        print('Question ',i, ' is: ',question)\n",
    "        print('The answer given is: ', answer)\n"
   ]
  },
  {
   "cell_type": "code",
   "execution_count": null,
   "metadata": {},
   "outputs": [],
   "source": [
    "nlp()"
   ]
  },
  {
   "cell_type": "code",
   "execution_count": 12,
   "metadata": {},
   "outputs": [],
   "source": [
    "questions = ['Why have you come to the ED','What is your main symptom?','Do you have a cough','Is there blood in your sputum?']"
   ]
  },
  {
   "cell_type": "code",
   "execution_count": null,
   "metadata": {},
   "outputs": [],
   "source": []
  },
  {
   "cell_type": "code",
   "execution_count": null,
   "metadata": {},
   "outputs": [],
   "source": []
  },
  {
   "cell_type": "code",
   "execution_count": 13,
   "metadata": {},
   "outputs": [
    {
     "name": "stderr",
     "output_type": "stream",
     "text": [
      "Converting examples to features: 100%|██████████| 1/1 [00:00<00:00, 229.91it/s]\n",
      "Converting examples to features: 100%|██████████| 1/1 [00:00<00:00, 310.16it/s]"
     ]
    },
    {
     "name": "stdout",
     "output_type": "stream",
     "text": [
      "{'score': 0.09491183018694915, 'start': 195, 'end': 230, 'answer': 'Last night I became short of breath'}\n"
     ]
    },
    {
     "name": "stderr",
     "output_type": "stream",
     "text": [
      "\n",
      "Converting examples to features: 100%|██████████| 1/1 [00:00<00:00, 335.71it/s]"
     ]
    },
    {
     "name": "stdout",
     "output_type": "stream",
     "text": [
      "{'score': 0.5190844419860134, 'start': 88, 'end': 96, 'answer': 'a cough.'}\n"
     ]
    },
    {
     "name": "stderr",
     "output_type": "stream",
     "text": [
      "\n",
      "Converting examples to features: 100%|██████████| 1/1 [00:00<00:00, 330.16it/s]"
     ]
    },
    {
     "name": "stdout",
     "output_type": "stream",
     "text": [
      "{'score': 0.33640971694746824, 'start': 97, 'end': 129, 'answer': 'I have been coughing for 3 days.'}\n"
     ]
    },
    {
     "name": "stderr",
     "output_type": "stream",
     "text": [
      "\n"
     ]
    },
    {
     "name": "stdout",
     "output_type": "stream",
     "text": [
      "{'score': 0.30087144301005964, 'start': 170, 'end': 194, 'answer': 'There is no blood in it.'}\n"
     ]
    }
   ],
   "source": [
    "for question in questions:\n",
    "    print(nlp({\n",
    "    'question': question,\n",
    "    'context': context}))"
   ]
  },
  {
   "cell_type": "code",
   "execution_count": null,
   "metadata": {},
   "outputs": [],
   "source": []
  }
 ],
 "metadata": {
  "kernelspec": {
   "display_name": "Python 3",
   "language": "python",
   "name": "python3"
  },
  "language_info": {
   "codemirror_mode": {
    "name": "ipython",
    "version": 3
   },
   "file_extension": ".py",
   "mimetype": "text/x-python",
   "name": "python",
   "nbconvert_exporter": "python",
   "pygments_lexer": "ipython3",
   "version": "3.7.5"
  }
 },
 "nbformat": 4,
 "nbformat_minor": 4
}
